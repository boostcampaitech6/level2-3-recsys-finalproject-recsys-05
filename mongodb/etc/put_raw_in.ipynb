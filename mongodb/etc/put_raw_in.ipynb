{
 "cells": [
  {
   "cell_type": "code",
   "execution_count": null,
   "metadata": {},
   "outputs": [],
   "source": [
    "from pymongo import MongoClient\n",
    "from tqdm import tqdm\n",
    "import orjson\n",
    "import os\n",
    "import gc  # 가비지 컬렉션 모듈 추가\n",
    "\n",
    "\n",
    "def put_match_data(collection_match, dump):\n",
    "    collection_match.insert_many(dump)\n",
    "    gc.collect()  # 데이터 삽입 후 가비지 컬렉션을 수동으로 실행\n",
    "\n",
    "\n",
    "def collect_data(collection_match, json_data_gen):\n",
    "    dump = []\n",
    "    for data in json_data_gen:\n",
    "        if verify_json(data):\n",
    "            dump += data \n",
    "\n",
    "        if len(dump) >= 2000:  # 수정: 정확한 비교 연산자 사용\n",
    "            put_match_data(collection_match, dump)\n",
    "            dump = []  # dump 리스트를 초기화\n",
    "\n",
    "\n",
    "def verify_json(json_data):\n",
    "    return 'participants' in json_data[0]\n",
    "\n",
    "\n",
    "def gen_json(file_gen):\n",
    "    for file in tqdm(file_gen, mininterval=2):\n",
    "        with open(file.path, 'rb') as f:\n",
    "            try:\n",
    "                json_data = orjson.loads(f.read())\n",
    "            except Exception as e:\n",
    "                print('Error reading {}: {}'.format(file.path, e))\n",
    "                continue\n",
    "        yield json_data\n",
    "\n",
    "\n",
    "def migrate(stored_dir, collection_match):\n",
    "    file_gen = os.scandir(stored_dir)\n",
    "    json_data_gen = gen_json(file_gen)\n",
    "\n",
    "    collect_data(collection_match, json_data_gen)"
   ]
  },
  {
   "cell_type": "code",
   "execution_count": null,
   "metadata": {},
   "outputs": [],
   "source": [
    "\n",
    "if __name__ == '__main__':\n",
    "    tier = 'gold'\n",
    "    data_dir = '/home/data/lol/matches/gold/'\n",
    "\n",
    "    client = MongoClient(\"mongodb://power16one5.iptime.org:27017/\")\n",
    "    db = client[\"loldb\"]\n",
    "    collection_match = db[f'{tier}_match']\n",
    "\n",
    "    migrate(data_dir, collection_match)\n"
   ]
  }
 ],
 "metadata": {
  "language_info": {
   "name": "python"
  }
 },
 "nbformat": 4,
 "nbformat_minor": 2
}
