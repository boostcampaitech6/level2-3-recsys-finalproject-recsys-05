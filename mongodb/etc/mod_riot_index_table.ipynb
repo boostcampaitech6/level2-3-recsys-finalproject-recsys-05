{
 "cells": [
  {
   "cell_type": "code",
   "execution_count": 2,
   "metadata": {},
   "outputs": [],
   "source": [
    "from tqdm import tqdm\n",
    "import asyncio\n",
    "from pymongo import MongoClient\n",
    "from src.MongoDB_Controller import MongoDBController\n",
    "import pandas as pd\n",
    "import numpy as np\n",
    "import re"
   ]
  },
  {
   "cell_type": "code",
   "execution_count": 7,
   "metadata": {},
   "outputs": [],
   "source": [
    "batch_size = 100000\n",
    "client = MongoClient(\"mongodb://localhost:27017/\")\n",
    "mongo = MongoDBController(client, batch_size)"
   ]
  },
  {
   "cell_type": "code",
   "execution_count": null,
   "metadata": {},
   "outputs": [],
   "source": []
  },
  {
   "cell_type": "code",
   "execution_count": 13,
   "metadata": {},
   "outputs": [],
   "source": [
    "lol_pos = [\n",
    "    {'key': 'TOP', 'value': 1},\n",
    "    {'key': 'JUNGLE', 'value': 2},\n",
    "    {'key': 'MIDDLE', 'value': 3},\n",
    "    {'key': 'BOTTOM', 'value': 4},\n",
    "    {'key': 'UTILITY', 'value': 5},\n",
    "]\n",
    "\n",
    "lol_team = [\n",
    "    {'key': 100, 'value': 1},\n",
    "    {'key': 200, 'value': 2},\n",
    "]"
   ]
  },
  {
   "cell_type": "code",
   "execution_count": 14,
   "metadata": {},
   "outputs": [
    {
     "data": {
      "text/plain": [
       "<pymongo.results.InsertManyResult at 0x7f20f42948c0>"
      ]
     },
     "execution_count": 14,
     "metadata": {},
     "output_type": "execute_result"
    }
   ],
   "source": [
    "mongo['riot_match_individualPosition_to_index'].delete_many({})\n",
    "mongo['riot_match_individualPosition_to_index'].insert_many(lol_pos)\n",
    "mongo['riot_match_teamId_to_index'].delete_many({})\n",
    "mongo['riot_match_teamId_to_index'].insert_many(lol_team)"
   ]
  },
  {
   "cell_type": "code",
   "execution_count": null,
   "metadata": {},
   "outputs": [],
   "source": []
  }
 ],
 "metadata": {
  "kernelspec": {
   "display_name": "BC",
   "language": "python",
   "name": "python3"
  },
  "language_info": {
   "codemirror_mode": {
    "name": "ipython",
    "version": 3
   },
   "file_extension": ".py",
   "mimetype": "text/x-python",
   "name": "python",
   "nbconvert_exporter": "python",
   "pygments_lexer": "ipython3",
   "version": "3.10.13"
  }
 },
 "nbformat": 4,
 "nbformat_minor": 2
}
