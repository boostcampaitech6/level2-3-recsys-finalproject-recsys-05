{
 "cells": [
  {
   "cell_type": "code",
   "execution_count": null,
   "metadata": {},
   "outputs": [],
   "source": [
    "%pip install requests orjson"
   ]
  },
  {
   "cell_type": "code",
   "execution_count": 18,
   "metadata": {},
   "outputs": [],
   "source": [
    "import json\n",
    "import orjson\n",
    "import os\n",
    "import requests\n",
    "import time\n",
    "\n",
    "\n",
    "### 각종 json에 필요없는 요소를 제거하는 함수입니다.\n",
    "def data_cleaning(data):\n",
    "    data = data['data']\n",
    "    ### myData 요소를 제거합니다.\n",
    "    for d in data:\n",
    "        del d['myData']\n",
    "\n",
    "    return data\n",
    "\n",
    "\n",
    "def write_json(data, output_dir):\n",
    "    for summoner_id, match in data:\n",
    "        with open(os.path.join(output_dir, f\"{summoner_id}.json\"), 'wb') as file:\n",
    "            file.write(orjson.dumps(match))\n",
    "            \n",
    "\n",
    "def summoner_id_generator(summoner_id_path, output_dir):\n",
    "    num_of_file = len(os.listdir(output_dir))\n",
    "\n",
    "    with open(summoner_id_path) as json_file:\n",
    "        json_data = json.load(json_file)\n",
    "        for i in json_data[num_of_file:]:\n",
    "            summoner_id = i['summoner_id']\n",
    "            yield summoner_id\n",
    "\n",
    "\n",
    "def crawling_match_generator(headers, summoner_id_generator):\n",
    "    for summoner_id in summoner_id_generator:\n",
    "        # print(f\"start: {summoner_id}\")\n",
    "        url = f\"https://www.op.gg/api/v1.0/internal/bypass/games/kr/summoners/{summoner_id}?&limit=10&hl=ko_KR&game_type=soloranked\"\n",
    "        resp = requests.get(url, headers=headers)\n",
    "\n",
    "        if resp.status_code == 200:\n",
    "            user_json = orjson.loads(resp.text)\n",
    "            user_json = data_cleaning(user_json)\n",
    "            yield summoner_id, user_json\n",
    "            \n",
    "        elif resp.status_code == 404:\n",
    "            user_json = orjson.loads('[{\"resp.status_code\": 404}]')\n",
    "            yield summoner_id, user_json\n",
    "\n",
    "        ### 응답코드가 429일 때, 1초씩 늘려가며 다시 요청합니다.\n",
    "        elif resp.status_code == 429:\n",
    "            sleep_time = 1\n",
    "            while resp.status_code == 429:\n",
    "                time.sleep(sleep_time)\n",
    "                sleep_time += 1\n",
    "\n",
    "                print(f'sleep {sleep_time}')      \n",
    "                resp = requests.get(url, headers=headers)\n",
    "        \n",
    "        else:\n",
    "            print(f\"unexpected response : {resp.status_code}, summoncer_id : {summoner_id}\")\n",
    "\n",
    "        "
   ]
  },
  {
   "cell_type": "code",
   "execution_count": 19,
   "metadata": {},
   "outputs": [],
   "source": [
    "if __name__ == \"__main__\":\n",
    "    tier = 'platinum'\n",
    "    summoner_id_path = \"../boostcamp_notebooks/summorer_ids\"\n",
    "    output_dir = \"/home/piddle/hdd/matches\"\n",
    "    headers = {'User-Agent': 'Mozilla/5.0 (X11; Linux x86_64; rv:122.0) Gecko/20100101 Firefox/122.0',}\n",
    "    \n",
    "    target_dir = os.path.join(output_dir, tier)\n",
    "    if not os.path.exists(target_dir):\n",
    "        os.makedirs(target_dir)\n",
    "        \n",
    "    summoner_id_gen = summoner_id_generator(os.path.join(summoner_id_path, tier + '.json'), target_dir)\n",
    "    match_gen = crawling_match_generator(headers, summoner_id_gen)\n",
    "    write_json(match_gen, target_dir)"
   ]
  },
  {
   "cell_type": "code",
   "execution_count": null,
   "metadata": {},
   "outputs": [],
   "source": []
  },
  {
   "cell_type": "markdown",
   "metadata": {},
   "source": [
    "##### 유저별 매치개수를 10개로 변경하고, json 문법의 들여쓰기를 제거하는 코드입니다."
   ]
  },
  {
   "cell_type": "code",
   "execution_count": null,
   "metadata": {},
   "outputs": [],
   "source": [
    "tier = 'diamond'\n",
    "output_dir = \"/home/piddle/hdd/matches\"\n",
    "path = os.path.join(output_dir, tier)\n",
    "\n",
    "\n",
    "for file in os.listdir(path):\n",
    "    # print(f'start: {file}')\n",
    "    file_path = os.path.join(path , file)\n",
    "    with open(file_path, 'r') as json_file:\n",
    "        data = json.load(json_file)\n",
    "\n",
    "        data = data[:10]\n",
    "        \n",
    "        try:\n",
    "            for d in data:\n",
    "                del d['myData']\n",
    "\n",
    "        except:\n",
    "            print('not found \\'myData\\'')\n",
    "\n",
    "        json_file = open(file_path, 'w')\n",
    "        json.dump(data, json_file, ensure_ascii=False)\n"
   ]
  }
 ],
 "metadata": {
  "kernelspec": {
   "display_name": "BC",
   "language": "python",
   "name": "python3"
  },
  "language_info": {
   "codemirror_mode": {
    "name": "ipython",
    "version": 3
   },
   "file_extension": ".py",
   "mimetype": "text/x-python",
   "name": "python",
   "nbconvert_exporter": "python",
   "pygments_lexer": "ipython3",
   "version": "3.10.13"
  }
 },
 "nbformat": 4,
 "nbformat_minor": 2
}
